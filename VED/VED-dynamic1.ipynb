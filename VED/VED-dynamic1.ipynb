version https://git-lfs.github.com/spec/v1
oid sha256:8498759e7dfca448da1bd4ecd302122a226a312473e8d615fba72cd2d44198f1
size 5026684
