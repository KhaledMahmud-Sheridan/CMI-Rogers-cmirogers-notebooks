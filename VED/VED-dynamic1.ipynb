version https://git-lfs.github.com/spec/v1
oid sha256:cc7577ee1b4f7feebf0e30cc27884e6a0c172ff259f9e319a046676adc4e59b1
size 4469944
