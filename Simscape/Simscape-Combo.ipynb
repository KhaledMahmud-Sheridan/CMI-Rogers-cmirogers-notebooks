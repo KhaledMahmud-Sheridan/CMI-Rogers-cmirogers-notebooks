version https://git-lfs.github.com/spec/v1
oid sha256:76f58959872de49d78c75e836abcae3c8736f22df5102110d7030e7e2b762ea7
size 273108928
