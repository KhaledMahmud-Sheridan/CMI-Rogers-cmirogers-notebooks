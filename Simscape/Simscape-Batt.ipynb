version https://git-lfs.github.com/spec/v1
oid sha256:f8cab089557bd8a4f86cfe2d9d8c718967fa4ae7e8dd3def90ff4741b1ecc92e
size 135946331
