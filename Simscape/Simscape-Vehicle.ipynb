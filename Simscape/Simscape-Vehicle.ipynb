version https://git-lfs.github.com/spec/v1
oid sha256:93b0a65c554754d89b1a5567ad004ed502e6f0a9f1a823e9727ffbc060f86db0
size 127571
