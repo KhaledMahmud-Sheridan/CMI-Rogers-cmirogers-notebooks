version https://git-lfs.github.com/spec/v1
oid sha256:2e23154ebc7ecb65806e84ea0d3dbdc234aa7c68c8cc5f1b786d98f9b3e29308
size 737184
