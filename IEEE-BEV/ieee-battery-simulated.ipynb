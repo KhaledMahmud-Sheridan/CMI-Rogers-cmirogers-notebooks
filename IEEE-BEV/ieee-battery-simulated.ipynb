version https://git-lfs.github.com/spec/v1
oid sha256:9d39db4b67b8779c988a064cf1c2552a49bf17669f75203f0c19eaccfef326c4
size 50846
