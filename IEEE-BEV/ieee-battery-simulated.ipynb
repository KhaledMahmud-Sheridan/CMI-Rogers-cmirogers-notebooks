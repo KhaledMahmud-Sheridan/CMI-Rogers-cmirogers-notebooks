version https://git-lfs.github.com/spec/v1
oid sha256:ed85755dcf1e43d679f37931fd6c315830f3daaef807fb14f9c7efb689fd24e3
size 46256
